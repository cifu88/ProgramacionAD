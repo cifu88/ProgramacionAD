{
 "cells": [
  {
   "cell_type": "code",
   "execution_count": null,
   "id": "180fcf6d",
   "metadata": {},
   "outputs": [],
   "source": [
    "\"\"\"Find the length of the tuple, genres_tuple:\"\"\"\n",
    "genres_tuple = (\"pop\", \"rock\", \"soul\", \"hard rock\", \"soft rock\", \\\n",
    "                \"R&B\", \"progressive rock\", \"disco\")\n",
    "print(len(genres_tuple))"
   ]
  },
  {
   "cell_type": "code",
   "execution_count": null,
   "id": "661f8c3e",
   "metadata": {},
   "outputs": [],
   "source": [
    "\"\"\"Access the element, with respect to index 3:\"\"\"\n",
    "print(genres_tuple[3])"
   ]
  },
  {
   "cell_type": "code",
   "execution_count": null,
   "id": "5c48c3f6",
   "metadata": {},
   "outputs": [],
   "source": [
    "\"\"\"Use slicing to obtain indexes 3, 4 and 5:\"\"\"\n",
    "print(genres_tuple[3:6])"
   ]
  },
  {
   "cell_type": "code",
   "execution_count": null,
   "id": "0eb0b0c9",
   "metadata": {},
   "outputs": [],
   "source": [
    "\"\"\"Find the first two elements of the tuple genres_tuple:\"\"\"\n",
    "print(genres_tuple[0:2])"
   ]
  },
  {
   "cell_type": "code",
   "execution_count": null,
   "id": "0c86aa9f",
   "metadata": {},
   "outputs": [],
   "source": [
    "\"\"\"Find the first index of \"disco\":\"\"\"\n",
    "print(genres_tuple.index(\"disco\"))"
   ]
  },
  {
   "cell_type": "code",
   "execution_count": null,
   "id": "de7d8dab",
   "metadata": {},
   "outputs": [],
   "source": [
    "\"\"\"Generate a sorted List from the Tuple C_tuple=(-5, 1, -3):\"\"\"\n",
    "C_tuple = (-5,1,-3)\n",
    "Sorted_C_Tuple = sorted(C_tuple)\n",
    "print(Sorted_C_Tuple)"
   ]
  }
 ],
 "metadata": {
  "kernelspec": {
   "display_name": "Python 3 (ipykernel)",
   "language": "python",
   "name": "python3"
  },
  "language_info": {
   "codemirror_mode": {
    "name": "ipython",
    "version": 3
   },
   "file_extension": ".py",
   "mimetype": "text/x-python",
   "name": "python",
   "nbconvert_exporter": "python",
   "pygments_lexer": "ipython3",
   "version": "3.9.12"
  }
 },
 "nbformat": 4,
 "nbformat_minor": 5
}
