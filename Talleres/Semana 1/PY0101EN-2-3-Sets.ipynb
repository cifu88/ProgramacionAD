{
 "cells": [
  {
   "cell_type": "code",
   "execution_count": null,
   "id": "8b4855a5",
   "metadata": {},
   "outputs": [],
   "source": [
    "\"\"\"Convert the list ['rap','house','electronic music', 'rap'] to a set:\"\"\"\n",
    "quiz = ['rap','house','electronic music', 'rap']\n",
    "quiz_set = set(quiz)\n",
    "print(quiz_set)"
   ]
  },
  {
   "cell_type": "code",
   "execution_count": null,
   "id": "fd3c2cf4",
   "metadata": {},
   "outputs": [],
   "source": [
    "\"\"\"Consider the list A = [1, 2, 2, 1] and set B = set([1, 2, 2, 1]), does sum(A) == sum(B)?\"\"\"\n",
    "A = [1,2,2,1]\n",
    "B = ([1,2,2,1])\n",
    "print(sum(A))\n",
    "print(sum(B))"
   ]
  },
  {
   "cell_type": "code",
   "execution_count": null,
   "id": "713a6243",
   "metadata": {},
   "outputs": [],
   "source": [
    "\"\"\"Create a new set album_set3 that is the union of album_set1 and album_set2:\"\"\"\n",
    "album_set1 = set([\"Thriller\", 'AC/DC', 'Back in Black'])\n",
    "album_set2 = set([ \"AC/DC\", \"Back in Black\", \"The Dark Side of the Moon\"])\n",
    "album_set3 = album_set1.union(album_set2)\n",
    "print(album_set3)"
   ]
  },
  {
   "cell_type": "code",
   "execution_count": null,
   "id": "f3d4f18c",
   "metadata": {},
   "outputs": [],
   "source": [
    "\"\"\"Find out if album_set1 is a subset of album_set3:\"\"\"\n",
    "print(album_set1.issubset(album_set3))"
   ]
  }
 ],
 "metadata": {
  "kernelspec": {
   "display_name": "Python 3 (ipykernel)",
   "language": "python",
   "name": "python3"
  },
  "language_info": {
   "codemirror_mode": {
    "name": "ipython",
    "version": 3
   },
   "file_extension": ".py",
   "mimetype": "text/x-python",
   "name": "python",
   "nbconvert_exporter": "python",
   "pygments_lexer": "ipython3",
   "version": "3.9.12"
  }
 },
 "nbformat": 4,
 "nbformat_minor": 5
}
