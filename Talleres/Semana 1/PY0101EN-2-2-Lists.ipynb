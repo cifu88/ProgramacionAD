{
 "cells": [
  {
   "cell_type": "code",
   "execution_count": null,
   "id": "fb740293",
   "metadata": {},
   "outputs": [],
   "source": [
    "\"\"\"Create a list a_list, with the following elements 1, hello, [1,2,3] and True.\"\"\"\n",
    "a_list = ['1','hello','[1,2,3]','True']\n",
    "print(a_list)"
   ]
  },
  {
   "cell_type": "code",
   "execution_count": null,
   "id": "cce928a1",
   "metadata": {},
   "outputs": [],
   "source": [
    "\"\"\"Retrieve the elements stored at index 1, 2 and 3 of a_list.\"\"\"\n",
    "print(a_list[0:3])"
   ]
  },
  {
   "cell_type": "code",
   "execution_count": null,
   "id": "416352cb",
   "metadata": {},
   "outputs": [],
   "source": [
    "\"\"\"Concatenate the following lists A = [1, 'a'] and B = [2, 1, 'd']:\"\"\"\n",
    "A_list = [1, 'a']\n",
    "B_list = [2, 1, 'd']\n",
    "print(A_list + B_list)"
   ]
  }
 ],
 "metadata": {
  "kernelspec": {
   "display_name": "Python 3 (ipykernel)",
   "language": "python",
   "name": "python3"
  },
  "language_info": {
   "codemirror_mode": {
    "name": "ipython",
    "version": 3
   },
   "file_extension": ".py",
   "mimetype": "text/x-python",
   "name": "python",
   "nbconvert_exporter": "python",
   "pygments_lexer": "ipython3",
   "version": "3.9.12"
  }
 },
 "nbformat": 4,
 "nbformat_minor": 5
}
