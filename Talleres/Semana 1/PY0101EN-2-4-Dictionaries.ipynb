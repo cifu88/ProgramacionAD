{
 "cells": [
  {
   "cell_type": "code",
   "execution_count": null,
   "id": "1d229970",
   "metadata": {},
   "outputs": [],
   "source": [
    "\"\"\"In the dictionary soundtrack_dic what are the keys ?\"\"\"\n",
    "soundtrack_dic = {\"The Bodyguard\":\"1992\", \"Saturday Night Fever\":\"1977\"}\n",
    "print(soundtrack_dic.keys())"
   ]
  },
  {
   "cell_type": "code",
   "execution_count": null,
   "id": "0c2b14f0",
   "metadata": {},
   "outputs": [],
   "source": [
    "\"\"\"In the dictionary soundtrack_dic what are the values ?\"\"\"\n",
    "print(soundtrack_dic.values())"
   ]
  }
 ],
 "metadata": {
  "kernelspec": {
   "display_name": "Python 3 (ipykernel)",
   "language": "python",
   "name": "python3"
  },
  "language_info": {
   "codemirror_mode": {
    "name": "ipython",
    "version": 3
   },
   "file_extension": ".py",
   "mimetype": "text/x-python",
   "name": "python",
   "nbconvert_exporter": "python",
   "pygments_lexer": "ipython3",
   "version": "3.9.12"
  }
 },
 "nbformat": 4,
 "nbformat_minor": 5
}
