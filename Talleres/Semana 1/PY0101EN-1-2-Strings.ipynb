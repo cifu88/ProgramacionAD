{
 "cells": [
  {
   "cell_type": "code",
   "execution_count": 1,
   "id": "90b445ee",
   "metadata": {},
   "outputs": [
    {
     "name": "stdout",
     "output_type": "stream",
     "text": [
      "1\n"
     ]
    }
   ],
   "source": [
    "\"\"\"What is the value of the variable a after the following code is executed?\"\"\"\n",
    "a = '1'\n",
    "print(a)"
   ]
  },
  {
   "cell_type": "code",
   "execution_count": 2,
   "id": "668a82f1",
   "metadata": {},
   "outputs": [
    {
     "name": "stdout",
     "output_type": "stream",
     "text": [
      "2\n"
     ]
    }
   ],
   "source": [
    "\"\"\"What is the value of the variable b after the following code is executed?\"\"\"\n",
    "b = '2'\n",
    "print(b)"
   ]
  },
  {
   "cell_type": "code",
   "execution_count": null,
   "id": "2c962a20",
   "metadata": {},
   "outputs": [],
   "source": [
    "\"\"\"What is the value of the variable c after the following code is executed?\"\"\"\n",
    "c = a + b\n",
    "print(c)"
   ]
  },
  {
   "cell_type": "code",
   "execution_count": null,
   "id": "bdcccbc1",
   "metadata": {},
   "outputs": [],
   "source": [
    "\"\"\"Consider the variable d use slicing to print out the first three elements:\"\"\"\n",
    "d = \"ABCDEFG\"\n",
    "print(d[0:3])"
   ]
  },
  {
   "cell_type": "code",
   "execution_count": null,
   "id": "f1d600e4",
   "metadata": {},
   "outputs": [],
   "source": [
    "\"\"\"Use a stride value of 2 to print out every second character of the string e\"\"\"\n",
    "e = 'clocrkr1e1c1t'\n",
    "print(e[0::2])"
   ]
  },
  {
   "cell_type": "code",
   "execution_count": null,
   "id": "77b1224b",
   "metadata": {},
   "outputs": [],
   "source": [
    "\"\"\"Print out a backslash:\"\"\"\n",
    "print(\"\\\\ \")"
   ]
  },
  {
   "cell_type": "code",
   "execution_count": null,
   "id": "6be742f9",
   "metadata": {},
   "outputs": [],
   "source": [
    "\"\"\"Convert the variable f to uppercase:\"\"\"\n",
    "f = \"You are wrong\"\n",
    "print(f.upper())"
   ]
  },
  {
   "cell_type": "code",
   "execution_count": null,
   "id": "f82018fc",
   "metadata": {},
   "outputs": [],
   "source": [
    "\"\"\"Consider the variable g, and find the first index of the sub-string snow\"\"\"\n",
    "g = \"Mary had a little lamb Little lamb, little lamb Mary had a little lamb \\\n",
    "Its fleece was white as snow And everywhere that Mary went Mary went, Mary went \\\n",
    "Everywhere that Mary went The lamb was sure to go\"\n",
    "print(g.find('snow'))"
   ]
  },
  {
   "cell_type": "code",
   "execution_count": null,
   "id": "3e1e7898",
   "metadata": {},
   "outputs": [],
   "source": [
    "\"\"\"In the variable g, replace the sub-string Mary with Bob:\"\"\"\n",
    "print(g.replace('Mary', 'Bob'))"
   ]
  }
 ],
 "metadata": {
  "kernelspec": {
   "display_name": "Python 3 (ipykernel)",
   "language": "python",
   "name": "python3"
  },
  "language_info": {
   "codemirror_mode": {
    "name": "ipython",
    "version": 3
   },
   "file_extension": ".py",
   "mimetype": "text/x-python",
   "name": "python",
   "nbconvert_exporter": "python",
   "pygments_lexer": "ipython3",
   "version": "3.9.12"
  }
 },
 "nbformat": 4,
 "nbformat_minor": 5
}
