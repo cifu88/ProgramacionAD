{
 "cells": [
  {
   "cell_type": "code",
   "execution_count": 10,
   "metadata": {},
   "outputs": [],
   "source": [
    "import numpy as np"
   ]
  },
  {
   "cell_type": "code",
   "execution_count": 11,
   "metadata": {},
   "outputs": [
    {
     "name": "stdout",
     "output_type": "stream",
     "text": [
      "float64\n"
     ]
    }
   ],
   "source": [
    "\"\"\"Check the type of the array and Value type for the given array c\"\"\"\n",
    "b = np.array([3.1, 11.02, 6.2, 213.2, 5.2])\n",
    "print(b.dtype)"
   ]
  },
  {
   "cell_type": "code",
   "execution_count": 12,
   "metadata": {},
   "outputs": [
    {
     "name": "stdout",
     "output_type": "stream",
     "text": [
      "[10 20 30 40 50]\n"
     ]
    }
   ],
   "source": [
    "\"\"\"Assign the value 20 for the second element in the given array.\"\"\"\n",
    "a = np.array([10, 2, 30, 40,50])\n",
    "a[1] = 20\n",
    "print(a)"
   ]
  },
  {
   "cell_type": "code",
   "execution_count": 13,
   "metadata": {},
   "outputs": [
    {
     "name": "stdout",
     "output_type": "stream",
     "text": [
      "[2 4 6 8]\n"
     ]
    }
   ],
   "source": [
    "\"\"\"Print the even elements in the given array.\"\"\"\n",
    "arr = np.array([1, 2, 3, 4, 5, 6, 7, 8])\n",
    "print(arr[1:9:2])"
   ]
  },
  {
   "cell_type": "code",
   "execution_count": 14,
   "metadata": {},
   "outputs": [
    {
     "name": "stdout",
     "output_type": "stream",
     "text": [
      "7\n",
      "(7,)\n"
     ]
    }
   ],
   "source": [
    "\"\"\"Find the size ,dimension and shape for the given array b\"\"\"\n",
    "b = np.array([10, 20, 30, 40, 50, 60, 70])\n",
    "print(b.size)\n",
    "print(b.shape)"
   ]
  },
  {
   "cell_type": "code",
   "execution_count": 19,
   "metadata": {},
   "outputs": [
    {
     "name": "stdout",
     "output_type": "stream",
     "text": [
      "492\n"
     ]
    }
   ],
   "source": [
    "\"\"\"Find the sum of maximum and minimum value in the given numpy array\"\"\"\n",
    "c = np.array([-10, 201, 43, 94, 502])\n",
    "max_c = c.max()\n",
    "min_c = c.min()\n",
    "\n",
    "Suma = max_c + min_c\n",
    "print(Suma)"
   ]
  },
  {
   "cell_type": "code",
   "execution_count": 20,
   "metadata": {},
   "outputs": [
    {
     "name": "stdout",
     "output_type": "stream",
     "text": [
      "[30 32 34 36 38 40]\n"
     ]
    }
   ],
   "source": [
    "\"\"\"Perform addition operation on the given numpy array arr1 and arr2:\"\"\"\n",
    "arr1 = np.array([10, 11, 12, 13, 14, 15])\n",
    "arr2 = np.array([20, 21, 22, 23, 24, 25])\n",
    "arrSuma = np.add(arr1, arr2)\n",
    "\n",
    "print(arrSuma)"
   ]
  },
  {
   "cell_type": "code",
   "execution_count": 22,
   "metadata": {},
   "outputs": [
    {
     "name": "stdout",
     "output_type": "stream",
     "text": [
      "[-10  -1   8  17  26  35]\n"
     ]
    }
   ],
   "source": [
    "\"\"\"Perform subtraction operation on the given numpy array arr3 and arr4:\"\"\"\n",
    "arr3 = np.array([10, 20, 30, 40, 50, 60])\n",
    "arr4 = np.array([20, 21, 22, 23, 24, 25])\n",
    "arrResta = np.subtract(arr3, arr4 )\n",
    "\n",
    "print(arrResta)\n"
   ]
  },
  {
   "cell_type": "code",
   "execution_count": 23,
   "metadata": {},
   "outputs": [
    {
     "name": "stdout",
     "output_type": "stream",
     "text": [
      "[ 20  20  60 120 200 300]\n"
     ]
    }
   ],
   "source": [
    "\"\"\"Perform multiply operation on the given numpy array arr5 and arr6:\"\"\"\n",
    "arr5 = np.array([10, 20, 30, 40, 50, 60])\n",
    "arr6 = np.array([2, 1, 2, 3, 4, 5])\n",
    "arrMult = np.multiply(arr5, arr6)\n",
    "\n",
    "print(arrMult)"
   ]
  },
  {
   "cell_type": "code",
   "execution_count": 24,
   "metadata": {},
   "outputs": [
    {
     "name": "stdout",
     "output_type": "stream",
     "text": [
      "[ 3.33333333  4.          3.          5.         25.          1.81818182]\n"
     ]
    }
   ],
   "source": [
    "\"\"\"Perform division operation on the given numpy array arr7 and arr8:\"\"\"\n",
    "arr7 = np.array([10, 20, 30, 40, 50, 60])\n",
    "arr8 = np.array([3, 5, 10, 8, 2, 33])\n",
    "arrDiv = np.divide(arr7, arr8)\n",
    "\n",
    "print(arrDiv)"
   ]
  },
  {
   "cell_type": "code",
   "execution_count": 25,
   "metadata": {},
   "outputs": [
    {
     "name": "stdout",
     "output_type": "stream",
     "text": [
      "26\n"
     ]
    }
   ],
   "source": [
    "\"\"\"Perform dot operation on the given numpy array ar9 and ar10:\"\"\"\n",
    "arr9 = np.array([3, 5])\n",
    "arr10 = np.array([2, 4])\n",
    "arrDot = np.dot(arr9, arr10)\n",
    "\n",
    "print(arrDot)"
   ]
  },
  {
   "cell_type": "code",
   "execution_count": 26,
   "metadata": {},
   "outputs": [
    {
     "name": "stdout",
     "output_type": "stream",
     "text": [
      "[6 7 8 4]\n"
     ]
    }
   ],
   "source": [
    "\"\"\"Add Constant 5 to the given numpy array arr:\"\"\"\n",
    "arr = np.array([1, 2, 3, -1])\n",
    "arrAdd = 5 + arr\n",
    "print(arrAdd)"
   ]
  },
  {
   "cell_type": "code",
   "execution_count": 27,
   "metadata": {},
   "outputs": [
    {
     "name": "stdout",
     "output_type": "stream",
     "text": [
      "[5.  4.8 4.6 4.4 4.2 4. ]\n"
     ]
    }
   ],
   "source": [
    "\"\"\"Make a numpy array within [5, 4] and 6 elements\"\"\"\n",
    "arrLins = np.linspace(5,4, num = 6)\n",
    "print(arrLins)"
   ]
  },
  {
   "cell_type": "code",
   "execution_count": 28,
   "metadata": {},
   "outputs": [
    {
     "name": "stdout",
     "output_type": "stream",
     "text": [
      "[ 1 -1]\n"
     ]
    }
   ],
   "source": [
    "#QUIZ\n",
    "\"\"\"Implement the following vector subtraction in numpy: u-v\"\"\"\n",
    "u = np.array([1, 0])\n",
    "v = np.array([0, 1])\n",
    "arrUV = np.subtract(u,v)\n",
    "print(arrUV)"
   ]
  },
  {
   "cell_type": "code",
   "execution_count": 29,
   "metadata": {},
   "outputs": [
    {
     "data": {
      "text/plain": [
       "array([4, 8])"
      ]
     },
     "execution_count": 29,
     "metadata": {},
     "output_type": "execute_result"
    }
   ],
   "source": [
    "\"\"\"Multiply the numpy array z with -2:\"\"\"\n",
    "z = np.array([2, 4])\n",
    "z * 2"
   ]
  },
  {
   "cell_type": "code",
   "execution_count": 31,
   "metadata": {},
   "outputs": [
    {
     "name": "stdout",
     "output_type": "stream",
     "text": [
      "[1 0 3 0 5]\n"
     ]
    }
   ],
   "source": [
    "\"\"\"Consider the list [1, 2, 3, 4, 5] and [1, 0, 1, 0, 1]. Cast both lists to a numpy array then multiply them together:\"\"\"\n",
    "arrA = np.array([1, 2, 3, 4, 5])\n",
    "arrB = np.array([1, 0, 1, 0, 1])\n",
    "arrAB = np.multiply(arrA,arrB)\n",
    "print(arrAB)"
   ]
  }
 ],
 "metadata": {
  "kernelspec": {
   "display_name": "Python 3.10.4 64-bit",
   "language": "python",
   "name": "python3"
  },
  "language_info": {
   "codemirror_mode": {
    "name": "ipython",
    "version": 3
   },
   "file_extension": ".py",
   "mimetype": "text/x-python",
   "name": "python",
   "nbconvert_exporter": "python",
   "pygments_lexer": "ipython3",
   "version": "3.10.4"
  },
  "orig_nbformat": 4,
  "vscode": {
   "interpreter": {
    "hash": "0500ee97a5acf692a3fae68c042a7fe2448beaab5db2844a869d8b9e06d99759"
   }
  }
 },
 "nbformat": 4,
 "nbformat_minor": 2
}
