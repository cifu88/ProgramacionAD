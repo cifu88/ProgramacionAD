{
 "cells": [
  {
   "cell_type": "code",
   "execution_count": null,
   "metadata": {},
   "outputs": [],
   "source": [
    "\"\"\"Write a for loop the prints out all the element between -5 and 5 using the range function.\"\"\"\n",
    "for i in range(-4,5):\n",
    "    print(i)"
   ]
  },
  {
   "cell_type": "code",
   "execution_count": null,
   "metadata": {},
   "outputs": [],
   "source": [
    "\"\"\"Print the elements of the following list: Genres=[ 'rock', 'R&B', 'Soundtrack', 'R&B', 'soul', 'pop'] Make sure you follow Python conventions.\"\"\"\n",
    "Genres=[ 'rock', 'R&B', 'Soundtrack', 'R&B', 'soul', 'pop']\n",
    "for l in Genres:\n",
    "    print(l)"
   ]
  },
  {
   "cell_type": "code",
   "execution_count": null,
   "metadata": {},
   "outputs": [],
   "source": [
    "\"\"\"Write a for loop that prints out the following list: squares=['red', 'yellow', 'green', 'purple', 'blue']\"\"\"\n",
    "squares=['red', 'yellow', 'green', 'purple', 'blue']\n",
    "for k in squares:\n",
    "    print(k)"
   ]
  },
  {
   "cell_type": "code",
   "execution_count": null,
   "metadata": {},
   "outputs": [],
   "source": [
    "\"\"\"Write a while loop to display the values of the Rating of an album playlist stored in the list PlayListRatings. \n",
    "If the score is less than 6, exit the loop. The list PlayListRatings is given by: PlayListRatings = [10, 9.5, 10, 8, 7.5, 5, 10, 10]\"\"\"\n",
    "PlayListRatings = [10, 9.5, 10, 8, 7.5, 5, 10, 10]\n",
    "i = 0\n",
    "score = PlayListRatings[0]\n",
    "while (i < len(PlayListRatings) and score >=6):\n",
    "    print(PlayListRatings[i])\n",
    "    i +=1\n",
    "    score = PlayListRatings[i]"
   ]
  },
  {
   "cell_type": "code",
   "execution_count": null,
   "metadata": {},
   "outputs": [],
   "source": [
    "\"\"\"Write a while loop to copy the strings 'orange' of the list squares to the list new_squares. \n",
    "Stop and exit the loop if the value on the list is not 'orange':\"\"\"\n",
    "colors = ['orange', 'orange', 'purple', 'blue ', 'orange']\n",
    "new_colors = []\n",
    "i = 0\n",
    "while (i <= len(colors) and colors[i]==\"orange\"):\n",
    "    new_colors.append(colors[i])\n",
    "    i +=1\n",
    "print(new_colors)"
   ]
  }
 ],
 "metadata": {
  "kernelspec": {
   "display_name": "Python 3.10.4 64-bit",
   "language": "python",
   "name": "python3"
  },
  "language_info": {
   "name": "python",
   "version": "3.10.4"
  },
  "orig_nbformat": 4,
  "vscode": {
   "interpreter": {
    "hash": "0500ee97a5acf692a3fae68c042a7fe2448beaab5db2844a869d8b9e06d99759"
   }
  }
 },
 "nbformat": 4,
 "nbformat_minor": 2
}
