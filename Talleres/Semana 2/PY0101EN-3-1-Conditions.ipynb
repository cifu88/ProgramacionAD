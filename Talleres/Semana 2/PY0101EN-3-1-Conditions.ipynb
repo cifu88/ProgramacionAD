{
 "cells": [
  {
   "cell_type": "code",
   "execution_count": null,
   "metadata": {},
   "outputs": [],
   "source": [
    "\"\"\"Write an if statement to determine if an album had a rating greater than 8. \n",
    "Test it using the rating for the album “Back in Black” that had a rating of 8.5. If the statement is true print \"This album is Amazing!\"\"\"\n",
    "RatingBiB = 8.5\n",
    "\n",
    "if RatingBiB > 8:\n",
    "    print(\"This album is Amazing!\")"
   ]
  },
  {
   "cell_type": "code",
   "execution_count": null,
   "metadata": {},
   "outputs": [],
   "source": [
    "\"\"\"Write an if-else statement that performs the following. \n",
    "If the rating is larger then eight print “this album is amazing”. If the rating is less than or equal to 8 print “this album is ok”.\"\"\"\n",
    "\n",
    "if RatingBiB > 8:\n",
    "    print(\"This album is Amazing!\")\n",
    "else:\n",
    "    print(\"This album is ok\")"
   ]
  },
  {
   "cell_type": "code",
   "execution_count": null,
   "metadata": {},
   "outputs": [],
   "source": [
    "\"\"\"Write an if statement to determine if an album came out before 1980 or in the years: 1991 or 1993. \n",
    "If the condition is true print out the year the album came out.\"\"\"\n",
    "\n",
    "AlbumYear = 1990\n",
    "\n",
    "if AlbumYear < 1980 or AlbumYear == 1991 or AlbumYear == 1993:\n",
    "    print(AlbumYear)"
   ]
  }
 ],
 "metadata": {
  "kernelspec": {
   "display_name": "Python 3.10.4 64-bit",
   "language": "python",
   "name": "python3"
  },
  "language_info": {
   "name": "python",
   "version": "3.10.4"
  },
  "orig_nbformat": 4,
  "vscode": {
   "interpreter": {
    "hash": "0500ee97a5acf692a3fae68c042a7fe2448beaab5db2844a869d8b9e06d99759"
   }
  }
 },
 "nbformat": 4,
 "nbformat_minor": 2
}
